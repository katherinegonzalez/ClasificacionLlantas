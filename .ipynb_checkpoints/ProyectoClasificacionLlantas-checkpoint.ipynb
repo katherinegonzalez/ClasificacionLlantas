{
 "cells": [
  {
   "cell_type": "markdown",
   "id": "a438e4e2",
   "metadata": {},
   "source": [
    "# Clasificación de estado de presión de llantas de vehículos a partir de imágenes"
   ]
  },
  {
   "cell_type": "markdown",
   "id": "9ef145d0",
   "metadata": {},
   "source": [
    "## 1. Cargando Archivos"
   ]
  },
  {
   "cell_type": "code",
   "execution_count": null,
   "id": "0b62402e",
   "metadata": {},
   "outputs": [],
   "source": [
    "import os\n",
    "os.getcwd()\n",
    "import cv2\n",
    "from google.colab.patches import cv2_imshow\n",
    "import pandas as pd\n",
    "import numpy as np\n",
    "import matplotlib.pyplot as plt\n"
   ]
  },
  {
   "cell_type": "code",
   "execution_count": null,
   "id": "f6d2cc2a",
   "metadata": {},
   "outputs": [],
   "source": []
  }
 ],
 "metadata": {
  "kernelspec": {
   "display_name": "Python 3",
   "language": "python",
   "name": "python3"
  }
 },
 "nbformat": 4,
 "nbformat_minor": 5
}
