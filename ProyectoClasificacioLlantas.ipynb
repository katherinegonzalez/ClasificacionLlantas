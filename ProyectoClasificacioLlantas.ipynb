{
 "cells": [
  {
   "cell_type": "markdown",
   "metadata": {
    "id": "NagJwcoItw-T"
   },
   "source": [
    "# Clasificación de estado de presión de llantas vehículos a partir de imágenes"
   ]
  },
  {
   "cell_type": "markdown",
   "metadata": {
    "id": "NagJwcoItw-T"
   },
   "source": [
    "# 1. Cargando Archivos"
   ]
  },
  {
   "cell_type": "code",
   "execution_count": null,
   "metadata": {
    "id": "wc1pnTeht0Q-"
   },
   "outputs": [],
   "source": [
    "import os\n",
    "os.getcwd()\n",
    "import cv2\n",
    "from google.colab.patches import cv2_imshow\n",
    "import pandas as pd\n",
    "import numpy as np\n",
    "import matplotlib.pyplot as plt\n"
   ]
  },
  {
   "cell_type": "code",
   "execution_count": null,
   "metadata": {
    "id": "YQZaQGsYt6ZL"
   },
   "outputs": [],
   "source": [
    "flat_class = []\n",
    "for image in os.listdir('flat.class'):\n",
    "  flat_class.append(cv2.imread(os.path.join('flat.class', image)))"
   ]
  },
  {
   "cell_type": "code",
   "execution_count": null,
   "metadata": {
    "id": "O_FgY2JvvBRz"
   },
   "outputs": [],
   "source": [
    "full_class = []\n",
    "for image in os.listdir('full.class'):\n",
    "  full_class.append(cv2.imread(os.path.join('full.class', image)))"
   ]
  },
  {
   "cell_type": "code",
   "execution_count": null,
   "metadata": {
    "colab": {
     "base_uri": "https://localhost:8080/",
     "height": 515
    },
    "executionInfo": {
     "elapsed": 31,
     "status": "ok",
     "timestamp": 1637886494245,
     "user": {
      "displayName": "Juan Soto",
      "photoUrl": "https://lh3.googleusercontent.com/a/default-user=s64",
      "userId": "15317834032152823083"
     },
     "user_tz": 300
    },
    "id": "QopQtawkvIS0",
    "outputId": "600422b8-f392-4444-e391-8f91e998e52e"
   },
   "outputs": [],
   "source": [
    "cv2_imshow(flat_class[0]), cv2_imshow(full_class[0]) "
   ]
  },
  {
   "cell_type": "code",
   "execution_count": null,
   "metadata": {
    "colab": {
     "base_uri": "https://localhost:8080/"
    },
    "executionInfo": {
     "elapsed": 24,
     "status": "ok",
     "timestamp": 1637886494248,
     "user": {
      "displayName": "Juan Soto",
      "photoUrl": "https://lh3.googleusercontent.com/a/default-user=s64",
      "userId": "15317834032152823083"
     },
     "user_tz": 300
    },
    "id": "y3jF1UU7wP2F",
    "outputId": "255904e0-c860-434e-80a9-eb98590ced7e"
   },
   "outputs": [],
   "source": [
    "print(flat_class[0].shape)\n",
    "print(len(flat_class))\n",
    "\n",
    "print(full_class[0].shape)\n",
    "print(len(full_class))"
   ]
  },
  {
   "cell_type": "code",
   "execution_count": null,
   "metadata": {},
   "outputs": [],
   "source": [
    "flat_gray = []\n",
    "full_gray = []\n",
    "full_data = []\n",
    "for img in flat_class:\n",
    "  flat_gray.append(np.array(cv2.cvtColor(img, cv2.COLOR_BGR2GRAY)).flatten())\n",
    "  full_data.append(np.array(cv2.cvtColor(img, cv2.COLOR_BGR2GRAY)).flatten())\n",
    "for img in full_class:\n",
    "  full_gray.append(np.array(cv2.cvtColor(img, cv2.COLOR_BGR2GRAY)).flatten())\n",
    "  full_data.append(np.array(cv2.cvtColor(img, cv2.COLOR_BGR2GRAY)).flatten())\n",
    "\n",
    "flat_gray = np.array(flat_gray)\n",
    "full_gray = np.array(full_gray)\n",
    "full_data = np.array(full_data)"
   ]
  },
  {
   "cell_type": "code",
   "execution_count": null,
   "metadata": {},
   "outputs": [],
   "source": [
    "print(flat_gray.shape)\n",
    "print(len(flat_gray))\n",
    "\n",
    "print(full_gray.shape)\n",
    "print(len(full_gray))\n",
    "\n",
    "print(full_data.shape)\n",
    "print(len(full_data))"
   ]
  },
  {
   "cell_type": "code",
   "execution_count": null,
   "metadata": {},
   "outputs": [],
   "source": [
    "etiquetas = np.zeros((300,))\n",
    "etiquetas = np.append(etiquetas, np.ones((300,)))\n",
    "etiquetas.shape"
   ]
  },
  {
   "cell_type": "code",
   "execution_count": null,
   "metadata": {},
   "outputs": [],
   "source": []
  },
  {
   "cell_type": "code",
   "execution_count": null,
   "metadata": {},
   "outputs": [],
   "source": []
  }
 ],
 "metadata": {
  "colab": {
   "authorship_tag": "ABX9TyNntKL2stgsoWA8sMsKW5/D",
   "mount_file_id": "1HaqokvA9UhRKCpxHUdDKZZXyFcRMQ_b4",
   "name": "Proyecto_Aprendizaje.ipynb",
   "provenance": []
  },
  "kernelspec": {
   "display_name": "Python 3",
   "language": "python",
   "name": "python3"
  },
  "language_info": {
   "codemirror_mode": {
    "name": "ipython",
    "version": 3
   },
   "file_extension": ".py",
   "mimetype": "text/x-python",
   "name": "python",
   "nbconvert_exporter": "python",
   "pygments_lexer": "ipython3",
   "version": "3.9.7"
  }
 },
 "nbformat": 4,
 "nbformat_minor": 1
}
