{
 "cells": [
  {
   "cell_type": "markdown",
   "metadata": {
    "id": "NagJwcoItw-T"
   },
   "source": [
    "# Clasificación de estado de presión de llantas vehículos a partir de imágenes\n",
    "\n",
    "###Juan Nicolás Soto Rios\n",
    "###Katherine Xiomar González Santacruz\n",
    "###Frank M. Córdoba O.\n"
   ]
  },
  {
   "cell_type": "markdown",
   "metadata": {
    "id": "NagJwcoItw-T"
   },
   "source": [
    "# 1. Cargando Archivos"
   ]
  },
  {
   "cell_type": "code",
   "execution_count": null,
   "metadata": {
    "id": "wc1pnTeht0Q-"
   },
   "outputs": [],
   "source": [
    "import os\n",
    "os.getcwd()\n",
    "import cv2\n",
    "from google.colab.patches import cv2_imshow\n",
    "import pandas as pd\n",
    "import numpy as np\n",
    "import matplotlib.pyplot as plt\n"
   ]
  },
  {
   "cell_type": "code",
   "execution_count": null,
   "metadata": {
    "id": "YQZaQGsYt6ZL"
   },
   "outputs": [],
   "source": [
    "flat_class = []\n",
    "for image in os.listdir('flat.class'):\n",
    "  flat_class.append(cv2.imread(os.path.join('flat.class', image)))"
   ]
  },
  {
   "cell_type": "code",
   "execution_count": null,
   "metadata": {
    "id": "O_FgY2JvvBRz"
   },
   "outputs": [],
   "source": [
    "full_class = []\n",
    "for image in os.listdir('full.class'):\n",
    "  full_class.append(cv2.imread(os.path.join('full.class', image)))"
   ]
  },
  {
   "cell_type": "code",
   "execution_count": null,
   "metadata": {
    "colab": {
     "base_uri": "https://localhost:8080/",
     "height": 515
    },
    "executionInfo": {
     "elapsed": 31,
     "status": "ok",
     "timestamp": 1637886494245,
     "user": {
      "displayName": "Juan Soto",
      "photoUrl": "https://lh3.googleusercontent.com/a/default-user=s64",
      "userId": "15317834032152823083"
     },
     "user_tz": 300
    },
    "id": "QopQtawkvIS0",
    "outputId": "600422b8-f392-4444-e391-8f91e998e52e"
   },
   "outputs": [],
   "source": [
    "cv2_imshow(flat_class[0]), cv2_imshow(full_class[0]) "
   ]
  },
  {
   "cell_type": "code",
   "execution_count": null,
   "metadata": {
    "colab": {
     "base_uri": "https://localhost:8080/"
    },
    "executionInfo": {
     "elapsed": 24,
     "status": "ok",
     "timestamp": 1637886494248,
     "user": {
      "displayName": "Juan Soto",
      "photoUrl": "https://lh3.googleusercontent.com/a/default-user=s64",
      "userId": "15317834032152823083"
     },
     "user_tz": 300
    },
    "id": "y3jF1UU7wP2F",
    "outputId": "255904e0-c860-434e-80a9-eb98590ced7e"
   },
   "outputs": [],
   "source": [
    "print(flat_class[0].shape)\n",
    "print(len(flat_class))\n",
    "\n",
    "print(full_class[0].shape)\n",
    "print(len(full_class))"
   ]
  },
  {
   "cell_type": "code",
   "execution_count": null,
   "metadata": {},
   "outputs": [],
   "source": [
    "flat_gray = []\n",
    "full_gray = []\n",
    "full_data = []\n",
    "for img in flat_class:\n",
    "  flat_gray.append(np.array(cv2.cvtColor(img, cv2.COLOR_BGR2GRAY)).flatten())\n",
    "  full_data.append(np.array(cv2.cvtColor(img, cv2.COLOR_BGR2GRAY)).flatten())\n",
    "for img in full_class:\n",
    "  full_gray.append(np.array(cv2.cvtColor(img, cv2.COLOR_BGR2GRAY)).flatten())\n",
    "  full_data.append(np.array(cv2.cvtColor(img, cv2.COLOR_BGR2GRAY)).flatten())\n",
    "\n",
    "flat_gray = np.array(flat_gray)\n",
    "full_gray = np.array(full_gray)\n",
    "full_data = np.array(full_data)"
   ]
  },
  {
   "cell_type": "code",
   "execution_count": null,
   "metadata": {},
   "outputs": [],
   "source": [
    "print(flat_gray.shape)\n",
    "print(len(flat_gray))\n",
    "\n",
    "print(full_gray.shape)\n",
    "print(len(full_gray))\n",
    "\n",
    "print(full_data.shape)\n",
    "print(len(full_data))"
   ]
  },
  {
   "cell_type": "code",
   "execution_count": null,
   "metadata": {},
   "outputs": [],
   "source": [
    "etiquetas = np.zeros((300,))\n",
    "etiquetas = np.append(etiquetas, np.ones((300,)))\n",
    "etiquetas.shape"
   ]
  },
  {
   "cell_type": "markdown",
   "metadata": {
    "id": "aWD9B-1DsvhD"
   },
   "source": [
    "# 2. Analizar dimensionalidad de los datos"
   ]
  },
  {
   "cell_type": "code",
   "execution_count": null,
   "metadata": {
    "colab": {
     "base_uri": "https://localhost:8080/"
    },
    "executionInfo": {
     "elapsed": 10139,
     "status": "ok",
     "timestamp": 1637886504706,
     "user": {
      "displayName": "Juan Soto",
      "photoUrl": "https://lh3.googleusercontent.com/a/default-user=s64",
      "userId": "15317834032152823083"
     },
     "user_tz": 300
    },
    "id": "Kc_4s8vUs0iN",
    "outputId": "4ef889ca-19e2-44e1-de60-6b3be286eb1b"
   },
   "outputs": [],
   "source": [
    "from sklearn.decomposition import PCA\n",
    "pca = PCA(n_components=200)\n",
    "\n",
    "pca.fit(full_data)"
   ]
  },
  {
   "cell_type": "code",
   "execution_count": null,
   "metadata": {
    "colab": {
     "base_uri": "https://localhost:8080/"
    },
    "executionInfo": {
     "elapsed": 15,
     "status": "ok",
     "timestamp": 1637886504707,
     "user": {
      "displayName": "Juan Soto",
      "photoUrl": "https://lh3.googleusercontent.com/a/default-user=s64",
      "userId": "15317834032152823083"
     },
     "user_tz": 300
    },
    "id": "kwrD3sYfIdQ1",
    "outputId": "1744f536-bf7a-4d07-c7fc-453faa9f64f9"
   },
   "outputs": [],
   "source": [
    "print(pca.explained_variance_ratio_[:5])\n",
    "print(pca.explained_variance_ratio_.sum())"
   ]
  },
  {
   "cell_type": "code",
   "execution_count": null,
   "metadata": {
    "colab": {
     "base_uri": "https://localhost:8080/",
     "height": 295
    },
    "executionInfo": {
     "elapsed": 284,
     "status": "ok",
     "timestamp": 1637886504983,
     "user": {
      "displayName": "Juan Soto",
      "photoUrl": "https://lh3.googleusercontent.com/a/default-user=s64",
      "userId": "15317834032152823083"
     },
     "user_tz": 300
    },
    "id": "UyTYci-4q0wu",
    "outputId": "70dcc32f-0ddc-450b-ce54-121d8dd704e8"
   },
   "outputs": [],
   "source": [
    "# Plot\n",
    "c = []\n",
    "v_ac = []\n",
    "v_i = 0\n",
    "for v in pca.explained_variance_ratio_:\n",
    "  v_i += v\n",
    "  v_ac.append(v_i) \n",
    "plt.plot(range(len(pca.explained_variance_ratio_)), v_ac)\n",
    "plt.ylabel('Varianza Explicada')\n",
    "plt.xlabel('Componentes Principales')\n",
    "plt.title('Varianza Explicada Acumulada')\n",
    "plt.show()"
   ]
  },
  {
   "cell_type": "code",
   "execution_count": null,
   "metadata": {
    "colab": {
     "base_uri": "https://localhost:8080/"
    },
    "executionInfo": {
     "elapsed": 17,
     "status": "ok",
     "timestamp": 1637886504985,
     "user": {
      "displayName": "Juan Soto",
      "photoUrl": "https://lh3.googleusercontent.com/a/default-user=s64",
      "userId": "15317834032152823083"
     },
     "user_tz": 300
    },
    "id": "CSGxoFjd2bsc",
    "outputId": "02a83eda-2b3a-4578-e005-4a0e596329a5"
   },
   "outputs": [],
   "source": [
    "n_c = 0\n",
    "i = 0\n",
    "counting = True\n",
    "while counting:\n",
    "  n_c += pca.explained_variance_ratio_[i]\n",
    "  i += 1\n",
    "  if n_c >= 0.8:\n",
    "    print(f'Numero de variables: {i}')\n",
    "    counting = False\n",
    "  "
   ]
  },
  {
   "cell_type": "code",
   "execution_count": null,
   "metadata": {
    "colab": {
     "base_uri": "https://localhost:8080/",
     "height": 283
    },
    "executionInfo": {
     "elapsed": 3778,
     "status": "ok",
     "timestamp": 1637886508752,
     "user": {
      "displayName": "Juan Soto",
      "photoUrl": "https://lh3.googleusercontent.com/a/default-user=s64",
      "userId": "15317834032152823083"
     },
     "user_tz": 300
    },
    "id": "o8jmzinG6nCd",
    "outputId": "d4d7ab9b-805d-4428-c2f1-3c82dbefa424"
   },
   "outputs": [],
   "source": [
    "pca = PCA(3) \n",
    "projected = pca.fit_transform(full_data)\n",
    "\n",
    "plt.scatter(projected[:, 0], projected[:, 1],\n",
    "            c=etiquetas, edgecolor='none', alpha=0.5, cmap=plt.cm.get_cmap('viridis', 2))\n",
    "plt.xlabel('component 1')\n",
    "plt.ylabel('component 2')\n",
    "plt.colorbar();"
   ]
  },
  {
   "cell_type": "code",
   "execution_count": null,
   "metadata": {
    "colab": {
     "base_uri": "https://localhost:8080/",
     "height": 542
    },
    "executionInfo": {
     "elapsed": 2022,
     "status": "ok",
     "timestamp": 1637886510765,
     "user": {
      "displayName": "Juan Soto",
      "photoUrl": "https://lh3.googleusercontent.com/a/default-user=s64",
      "userId": "15317834032152823083"
     },
     "user_tz": 300
    },
    "id": "2lhGwnuhH9pc",
    "outputId": "0de2608b-e96c-40f3-8983-e147b56f08a0"
   },
   "outputs": [],
   "source": [
    "import plotly.express as px\n",
    "fig = px.scatter_3d( x= projected[:, 0], y= projected[:, 1], z= projected[:, 2],\n",
    "              color= etiquetas, )\n",
    "fig.show()"
   ]
  },
  {
   "cell_type": "code",
   "execution_count": null,
   "metadata": {
    "id": "_yhBot2MMCkt"
   },
   "outputs": [],
   "source": [
    "pca = PCA(70)\n",
    "\n",
    "X = pca.fit_transform(full_data)\n",
    "y = etiquetas"
   ]
  },
  {
   "cell_type": "code",
   "execution_count": null,
   "metadata": {
    "colab": {
     "base_uri": "https://localhost:8080/"
    },
    "executionInfo": {
     "elapsed": 8,
     "status": "ok",
     "timestamp": 1637886515081,
     "user": {
      "displayName": "Juan Soto",
      "photoUrl": "https://lh3.googleusercontent.com/a/default-user=s64",
      "userId": "15317834032152823083"
     },
     "user_tz": 300
    },
    "id": "nD9N2gHrMESG",
    "outputId": "84aaed3b-91c9-42cc-ad97-d2a593267d11"
   },
   "outputs": [],
   "source": [
    "from sklearn.model_selection import train_test_split\n",
    "X_train, X_test_p, y_train, y_test_p = train_test_split(X, y, test_size=0.3, random_state=42)\n",
    "\n",
    "\n",
    "print(X_train.shape)\n",
    "print(X_test_p.shape)\n",
    "print(y_train.shape)\n",
    "print(y_test_p.shape)"
   ]
  },
  {
   "cell_type": "markdown",
   "metadata": {
    "id": "aWD9B-1DsvhD"
   },
   "source": [
    "# 3. Red Neuronal"
   ]
  },
  {
   "cell_type": "markdown",
   "metadata": {},
   "source": [
    "# 3.1 Modelo Red Neuronal 1"
   ]
  },
  {
   "cell_type": "code",
   "execution_count": null,
   "metadata": {
    "colab": {
     "base_uri": "https://localhost:8080/",
     "height": 235
    },
    "executionInfo": {
     "elapsed": 3474,
     "status": "error",
     "timestamp": 1637971561166,
     "user": {
      "displayName": "Juan Soto",
      "photoUrl": "https://lh3.googleusercontent.com/a/default-user=s64",
      "userId": "15317834032152823083"
     },
     "user_tz": 300
    },
    "id": "gcQmVRp2OoNw",
    "outputId": "3a791baa-af96-4371-dbbc-8e4ee12a230b"
   },
   "outputs": [],
   "source": [
    "import tensorflow as tf\n",
    "from tensorflow.keras import Sequential\n",
    "from tensorflow.keras.layers import Dense\n",
    "\n",
    "X_val, X_test, y_val, y_test = train_test_split(X_test_p, y_test_p, test_size= 0.3, random_state= 42)\n",
    "\n",
    "validation = True\n",
    "\n",
    "n_features = X_train.shape[1]\n",
    "# Definicion del modelo\n",
    "nn_model = Sequential()\n",
    "nn_model.add(Dense(128, activation='relu', kernel_initializer='he_normal', input_shape=(n_features,)))\n",
    "nn_model.add(Dense(64, activation='relu', kernel_initializer='he_normal'))\n",
    "nn_model.add(Dense(32, activation='relu', kernel_initializer='he_normal'))\n",
    "nn_model.add(Dense(1, activation='sigmoid'))\n",
    "\n",
    "# Callback\n",
    "callback = tf.keras.callbacks.EarlyStopping(monitor='loss', patience=3)\n",
    "\n",
    "# Compilacion del modelo\n",
    "nn_model.compile(optimizer='adam', loss= tf.keras.losses.BinaryCrossentropy(), metrics=['accuracy'])\n",
    "start = time.time()\n",
    "\n",
    "# fit\n",
    "if validation: \n",
    "  nn_model.fit(X_train, y_train, epochs=20, batch_size=10,  callbacks=[callback],  validation_data = (X_val, y_val))\n",
    "else:\n",
    "   nn_model.fit(X_train, y_train, epochs=20, batch_size=10,  callbacks=[callback],  validation_data = None)\n",
    "# evaluacion\n",
    "if validation:\n",
    "  # train accuracy\n",
    "  loss, acc = nn_model.evaluate(X_train, y_train, verbose=0)\n",
    "  print('Train Accuracy: %.3f' % acc)\n",
    "  # test acccuracy\n",
    "  loss, acc = nn_model.evaluate(X_test, y_test, verbose=0)\n",
    "  print('Test Accuracy: %.3f' % acc)\n",
    "else:\n",
    "  # train accuracy\n",
    "  loss, acc = nn_model.evaluate(X_train, y_train, verbose=0)\n",
    "  print('Train Accuracy: %.3f' % acc)\n",
    "  # test acccuracy\n",
    "  loss, acc = nn_model.evaluate(X_test_p, y_test_p, verbose=0)\n",
    "  print('Test Accuracy: %.3f' % acc)\n",
    "\n",
    "end = time.time()\n",
    "t_total = (end-start)/60\n",
    "print(f'Tiempo de entrenamiento: {t_total} minutos')"
   ]
  },
  {
   "cell_type": "code",
   "execution_count": null,
   "metadata": {
    "id": "UBAIS8K9ozrm"
   },
   "outputs": [],
   "source": [
    "# Diagrama del modelo\n",
    "from keras.utils.vis_utils import plot_model\n",
    "plot_model(nn_model,  show_shapes=True, show_layer_names=True)"
   ]
  },
  {
   "cell_type": "code",
   "execution_count": null,
   "metadata": {
    "id": "JEt2YodPRpMP"
   },
   "outputs": [],
   "source": [
    "# Predicciones\n",
    "y_pred_nn = nn_model.predict(X_test_p)\n",
    "y_pred_nn = np.array(y_pred_nn).flatten()\n",
    "y_pred_nn = (y_pred_nn > 0.9).astype(int)\n",
    "print(classification_report(y_test_p, y_pred_nn))"
   ]
  },
  {
   "cell_type": "code",
   "execution_count": null,
   "metadata": {
    "id": "y-17WuM3IAjV"
   },
   "outputs": [],
   "source": [
    "# Matriz de confusion\n",
    "cm = confusion_matrix(y_test_p, y_pred_nn)\n",
    "print(cm)"
   ]
  },
  {
   "cell_type": "code",
   "execution_count": null,
   "metadata": {
    "id": "_86af9T4weGJ"
   },
   "outputs": [],
   "source": [
    "# Matriz de confusion\n",
    "import matplotlib.pyplot as plt\n",
    "from sklearn.metrics import ConfusionMatrixDisplay\n",
    "\n",
    "disp = ConfusionMatrixDisplay(confusion_matrix=cm,\n",
    "                              display_labels= None)\n",
    "\n",
    "\n",
    "disp = disp.plot(include_values= True, cmap='viridis')\n",
    "\n",
    "plt.show()"
   ]
  },
  {
   "cell_type": "markdown",
   "metadata": {},
   "source": [
    "# 3.2 Modelo Red Neuronal 2"
   ]
  },
  {
   "cell_type": "code",
   "execution_count": null,
   "metadata": {},
   "outputs": [],
   "source": [
    "import tensorflow as tf\n",
    "from tensorflow.keras import Sequential\n",
    "from tensorflow.keras.layers import Dense\n",
    "\n",
    "\n",
    "validation = True\n",
    "\n",
    "n_features = X_train.shape[1]\n",
    "# Definicion del modelo\n",
    "nn_model = Sequential()\n",
    "nn_model.add(Dense(254, activation='relu', kernel_initializer='he_normal', input_shape=(n_features,)))\n",
    "nn_model.add(Dense(128, activation='relu', kernel_initializer='he_normal'))\n",
    "nn_model.add(Dense(64, activation='relu', kernel_initializer='he_normal'))\n",
    "nn_model.add(Dense(32, activation='relu', kernel_initializer='he_normal'))\n",
    "nn_model.add(Dense(1, activation='sigmoid'))\n",
    "\n",
    "# Callback\n",
    "callback = tf.keras.callbacks.EarlyStopping(monitor='loss', patience=3)\n",
    "\n",
    "# Compilacion del modelo\n",
    "nn_model.compile(optimizer='adam', loss= tf.keras.losses.BinaryCrossentropy(), metrics=['accuracy'])\n",
    "start = time.time()\n",
    "# fit\n",
    "if validation: \n",
    "  nn_model.fit(X_train, y_train, epochs=20, batch_size=10,  callbacks=[callback],  validation_data = (X_val, y_val))\n",
    "else:\n",
    "   nn_model.fit(X_train, y_train, epochs=20, batch_size=10,  callbacks=[callback],  validation_data = None)\n",
    "# evaluacion\n",
    "if validation:\n",
    "  # train accuracy\n",
    "  loss, acc = nn_model.evaluate(X_train, y_train, verbose=0)\n",
    "  print('Train Accuracy: %.3f' % acc)\n",
    "  # test acccuracy\n",
    "  loss, acc = nn_model.evaluate(X_test, y_test, verbose=0)\n",
    "  print('Test Accuracy: %.3f' % acc)\n",
    "else:\n",
    "  # train accuracy\n",
    "  loss, acc = nn_model.evaluate(X_train, y_train, verbose=0)\n",
    "  print('Train Accuracy: %.3f' % acc)\n",
    "  # test acccuracy\n",
    "  loss, acc = nn_model.evaluate(X_test_p, y_test_p, verbose=0)\n",
    "  print('Test Accuracy: %.3f' % acc)\n",
    "end = time.time()\n",
    "t_total = (end-start)/60\n",
    "print(f'Tiempo de entrenamiento: {t_total} minutos')"
   ]
  },
  {
   "cell_type": "code",
   "execution_count": null,
   "metadata": {},
   "outputs": [],
   "source": [
    "# Diagrama del modelo\n",
    "from keras.utils.vis_utils import plot_model\n",
    "plot_model(nn_model,  show_shapes=True, show_layer_names=True)"
   ]
  },
  {
   "cell_type": "code",
   "execution_count": null,
   "metadata": {},
   "outputs": [],
   "source": [
    "# Predicciones\n",
    "y_pred_nn = nn_model.predict(X_test_p)\n",
    "y_pred_nn = np.array(y_pred_nn).flatten()\n",
    "y_pred_nn = (y_pred_nn > 0.9).astype(int)\n",
    "print(classification_report(y_test_p, y_pred_nn))"
   ]
  },
  {
   "cell_type": "code",
   "execution_count": null,
   "metadata": {},
   "outputs": [],
   "source": [
    "# Matriz de confusion\n",
    "cm = confusion_matrix(y_test_p, y_pred_nn)\n",
    "print(cm)"
   ]
  },
  {
   "cell_type": "code",
   "execution_count": null,
   "metadata": {},
   "outputs": [],
   "source": [
    "# Matriz de confusion\n",
    "import matplotlib.pyplot as plt\n",
    "from sklearn.metrics import ConfusionMatrixDisplay\n",
    "\n",
    "disp = ConfusionMatrixDisplay(confusion_matrix=cm,\n",
    "                              display_labels= None)\n",
    "\n",
    "\n",
    "disp = disp.plot(include_values= True, cmap='viridis')\n",
    "\n",
    "plt.show()"
   ]
  },
  {
   "cell_type": "markdown",
   "metadata": {},
   "source": [
    "# 4. Redes Convolucionales"
   ]
  },
  {
   "cell_type": "markdown",
   "metadata": {},
   "source": [
    "## 4.1 Preparacion de Imagenes"
   ]
  },
  {
   "cell_type": "code",
   "execution_count": null,
   "metadata": {},
   "outputs": [],
   "source": [
    "full_data_2 = []\n",
    "for img in flat_class:\n",
    "  full_data_2.append(np.array(cv2.cvtColor(img, cv2.COLOR_BGR2GRAY)))\n",
    "\n",
    "for img in full_class:\n",
    "  full_data_2.append(np.array(cv2.cvtColor(img, cv2.COLOR_BGR2GRAY)))"
   ]
  },
  {
   "cell_type": "code",
   "execution_count": null,
   "metadata": {},
   "outputs": [],
   "source": [
    "## Particion de la base de datos en train - test\n",
    "from sklearn.model_selection import train_test_split\n",
    "X_train_i, X_test_p_i, y_train_i, y_test_p_i = train_test_split(np.array(full_data_2), etiquetas, test_size=0.3, random_state=42)\n",
    "\n",
    "\n",
    "print(X_train_i.shape)\n",
    "print(X_test_p_i.shape)\n",
    "print(y_train_i.shape)\n",
    "print(y_test_p_i.shape)"
   ]
  },
  {
   "cell_type": "code",
   "execution_count": null,
   "metadata": {},
   "outputs": [],
   "source": [
    "# Particion de datos para validacion y test\n",
    "X_val, X_test, y_val, y_test = train_test_split(X_test_p_i, y_test_p_i, test_size=0.3, random_state=42)"
   ]
  },
  {
   "cell_type": "markdown",
   "metadata": {},
   "source": [
    "## 4.1 Modelo Red Convolucional 1"
   ]
  },
  {
   "cell_type": "code",
   "execution_count": null,
   "metadata": {},
   "outputs": [],
   "source": [
    "# Definicion del modelo\n",
    "model = models.Sequential()\n",
    "model.add(layers.Conv2D(32, (3, 3), activation='relu', padding= \"same\" , input_shape=(240, 240,1)))\n",
    "model.add(layers.MaxPooling2D((2, 2)))\n",
    "model.add(layers.Conv2D(64, (3, 3), padding= \"same\", activation='relu'))\n",
    "model.add(layers.MaxPooling2D((2, 2)))\n",
    "model.add(layers.Conv2D(64, (3, 3), padding= \"same\", activation='relu'))\n",
    "\n",
    "model.add(layers.Flatten())\n",
    "model.add(layers.Dense(64, activation='relu'))\n",
    "model.add(layers.Dense(1))"
   ]
  },
  {
   "cell_type": "code",
   "execution_count": null,
   "metadata": {},
   "outputs": [],
   "source": [
    "# Resumen del modelo\n",
    "model.summary()"
   ]
  },
  {
   "cell_type": "code",
   "execution_count": null,
   "metadata": {},
   "outputs": [],
   "source": [
    "# Diagrama del modelo\n",
    "from keras.utils.vis_utils import plot_model\n",
    "plot_model(model,  show_shapes=True, show_layer_names=True)"
   ]
  },
  {
   "cell_type": "code",
   "execution_count": null,
   "metadata": {},
   "outputs": [],
   "source": [
    "# Se establece Callback\n",
    "callback = tf.keras.callbacks.EarlyStopping(\n",
    "    monitor='val_loss', min_delta=0, patience=3, verbose=0,\n",
    "    mode='auto', baseline=None, restore_best_weights=False\n",
    ")"
   ]
  },
  {
   "cell_type": "code",
   "execution_count": null,
   "metadata": {},
   "outputs": [],
   "source": [
    "# Entrenamiento\n",
    "start = time.time()\n",
    "model.compile(optimizer='adam',\n",
    "              loss=tf.keras.losses.BinaryCrossentropy(from_logits=True),\n",
    "              metrics=['accuracy'])\n",
    "\n",
    "history = model.fit(X_train_i, y_train_i, epochs=10, \n",
    "                    validation_data=(X_val, y_val), batch_size =32, callbacks = [callback])\n",
    "end = time.time()\n",
    "t_total = (end-start)/60\n",
    "print(f'Tiempo de entrenamiento: {t_total} minutos')"
   ]
  },
  {
   "cell_type": "code",
   "execution_count": null,
   "metadata": {},
   "outputs": [],
   "source": [
    "# Historico de metricas durante entrenamiento\n",
    "plt.plot(history.history['accuracy'], label='accuracy')\n",
    "plt.plot(history.history['val_accuracy'], label = 'val_accuracy')\n",
    "plt.xlabel('Epoch')\n",
    "plt.ylabel('Accuracy')\n",
    "plt.ylim([0.5, 1])\n",
    "plt.legend(loc='lower right')\n",
    "\n",
    "test_loss, test_acc = model.evaluate(X_test,  y_test, verbose=2)"
   ]
  },
  {
   "cell_type": "code",
   "execution_count": null,
   "metadata": {},
   "outputs": [],
   "source": [
    "print(test_acc)"
   ]
  },
  {
   "cell_type": "code",
   "execution_count": null,
   "metadata": {},
   "outputs": [],
   "source": [
    "# Classification report\n",
    "from sklearn.metrics import classification_report, confusion_matrix, roc_auc_score, plot_confusion_matrix\n",
    "y_pred = model.predict(X_test)\n",
    "y_pred= np.array(y_pred).flatten()\n",
    "y_pred_nn = (y_pred> 0.9).astype(int)\n",
    "print(classification_report(y_test, y_pred_nn))"
   ]
  },
  {
   "cell_type": "code",
   "execution_count": null,
   "metadata": {},
   "outputs": [],
   "source": [
    "# Matriz de confusion\n",
    "cm = confusion_matrix(y_test, y_pred_nn)\n",
    "print(cm)"
   ]
  },
  {
   "cell_type": "code",
   "execution_count": null,
   "metadata": {},
   "outputs": [],
   "source": [
    "import matplotlib.pyplot as plt\n",
    "from sklearn.metrics import ConfusionMatrixDisplay\n",
    "\n",
    "disp = ConfusionMatrixDisplay(confusion_matrix=cm,\n",
    "                              display_labels= None)\n",
    "\n",
    "\n",
    "disp = disp.plot(include_values= True, cmap='viridis')\n",
    "\n",
    "plt.show()"
   ]
  },
  {
   "cell_type": "markdown",
   "metadata": {},
   "source": [
    "## 4.3 Modelo Red Convolucional 2"
   ]
  },
  {
   "cell_type": "code",
   "execution_count": null,
   "metadata": {},
   "outputs": [],
   "source": [
    "# Definicion del modelo\n",
    "model = models.Sequential()\n",
    "model.add(layers.Conv2D(32, (3, 3), activation='relu', padding= \"same\" , input_shape=(240, 240,1)))\n",
    "model.add(layers.MaxPooling2D((2, 2)))\n",
    "model.add(layers.Conv2D(64, (3, 3), padding= \"same\", activation='relu'))\n",
    "model.add(layers.MaxPooling2D((2, 2)))\n",
    "model.add(layers.Conv2D(64, (3, 3), padding= \"same\", activation='relu'))\n",
    "model.add(layers.MaxPooling2D((2, 2)))\n",
    "model.add(layers.Conv2D(128, (3, 3), padding= \"same\", activation='relu'))\n",
    "\n",
    "model.add(layers.Flatten())\n",
    "model.add(layers.Dense(128, activation='relu'))\n",
    "model.add(layers.Dense(1))"
   ]
  },
  {
   "cell_type": "code",
   "execution_count": null,
   "metadata": {},
   "outputs": [],
   "source": [
    "# Resumen del modelo\n",
    "model.summary()"
   ]
  },
  {
   "cell_type": "code",
   "execution_count": null,
   "metadata": {},
   "outputs": [],
   "source": [
    "# Diagrama del modelo\n",
    "from keras.utils.vis_utils import plot_model\n",
    "plot_model(model,  show_shapes=True, show_layer_names=True)"
   ]
  },
  {
   "cell_type": "code",
   "execution_count": null,
   "metadata": {},
   "outputs": [],
   "source": [
    "# Se establece Callback\n",
    "callback = tf.keras.callbacks.EarlyStopping(\n",
    "    monitor='val_loss', min_delta=0, patience=3, verbose=0,\n",
    "    mode='auto', baseline=None, restore_best_weights=False\n",
    ")"
   ]
  },
  {
   "cell_type": "code",
   "execution_count": null,
   "metadata": {},
   "outputs": [],
   "source": [
    "# Entrenamiento\n",
    "start = time.time()\n",
    "model.compile(optimizer='adam',\n",
    "              loss=tf.keras.losses.BinaryCrossentropy(from_logits=True),\n",
    "              metrics=['accuracy'])\n",
    "\n",
    "history = model.fit(X_train_i, y_train_i, epochs=10, \n",
    "                    validation_data=(X_val, y_val), batch_size =32, callbacks = [callback])\n",
    "end = time.time()\n",
    "t_total = (end-start)/60\n",
    "print(f'Tiempo de entrenamiento: {t_total} minutos')"
   ]
  },
  {
   "cell_type": "code",
   "execution_count": null,
   "metadata": {},
   "outputs": [],
   "source": [
    "# Historico de metricas durante entrenamiento\n",
    "plt.plot(history.history['accuracy'], label='accuracy')\n",
    "plt.plot(history.history['val_accuracy'], label = 'val_accuracy')\n",
    "plt.xlabel('Epoch')\n",
    "plt.ylabel('Accuracy')\n",
    "plt.ylim([0.5, 1])\n",
    "plt.legend(loc='lower right')\n",
    "\n",
    "test_loss, test_acc = model.evaluate(X_test,  y_test, verbose=2)"
   ]
  },
  {
   "cell_type": "code",
   "execution_count": null,
   "metadata": {},
   "outputs": [],
   "source": [
    "# Classification report\n",
    "from sklearn.metrics import classification_report, confusion_matrix, roc_auc_score, plot_confusion_matrix\n",
    "y_pred = model.predict(X_test)\n",
    "y_pred= np.array(y_pred).flatten()\n",
    "y_pred_nn = (y_pred> 0.9).astype(int)\n",
    "print(classification_report(y_test, y_pred_nn))"
   ]
  },
  {
   "cell_type": "code",
   "execution_count": null,
   "metadata": {},
   "outputs": [],
   "source": [
    "# Matriz de confusion\n",
    "cm = confusion_matrix(y_test, y_pred_nn)\n",
    "print(cm)"
   ]
  },
  {
   "cell_type": "code",
   "execution_count": null,
   "metadata": {},
   "outputs": [],
   "source": [
    "import matplotlib.pyplot as plt\n",
    "from sklearn.metrics import ConfusionMatrixDisplay\n",
    "\n",
    "disp = ConfusionMatrixDisplay(confusion_matrix=cm,\n",
    "                              display_labels= None)\n",
    "\n",
    "\n",
    "disp = disp.plot(include_values= True, cmap='viridis')\n",
    "\n",
    "plt.show()"
   ]
  }
 ],
 "metadata": {
  "colab": {
   "authorship_tag": "ABX9TyNntKL2stgsoWA8sMsKW5/D",
   "mount_file_id": "1HaqokvA9UhRKCpxHUdDKZZXyFcRMQ_b4",
   "name": "Proyecto_Aprendizaje.ipynb",
   "provenance": []
  },
  "kernelspec": {
   "display_name": "Python 3 (ipykernel)",
   "language": "python",
   "name": "python3"
  },
  "language_info": {
   "codemirror_mode": {
    "name": "ipython",
    "version": 3
   },
   "file_extension": ".py",
   "mimetype": "text/x-python",
   "name": "python",
   "nbconvert_exporter": "python",
   "pygments_lexer": "ipython3",
   "version": "3.9.7"
  }
 },
 "nbformat": 4,
 "nbformat_minor": 1
}
